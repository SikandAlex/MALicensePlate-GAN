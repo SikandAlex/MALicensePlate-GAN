{
 "cells": [
  {
   "cell_type": "code",
   "execution_count": 25,
   "metadata": {},
   "outputs": [],
   "source": [
    "from Utilities.io import DataLoader\n",
    "from Utilities.lossMetric import *\n",
    "from Utilities.trainVal import MinMaxGame\n",
    "from Models.RRDBNet import RRDBNet\n",
    "from Models.GAN import Discriminator\n",
    "\n",
    "from PIL import Image"
   ]
  },
  {
   "cell_type": "markdown",
   "metadata": {},
   "source": [
    "### Load in the training dataset\n",
    "I used the Chinese City Parking Dataset for this project. Please download the dataset from https://github.com/detectRecog/CCPD  \n",
    "Before loading the dataset, it is critical that you run the preprocessing script (preprocess.py) first!!!   \n",
    "` \n",
    "python preprocess.py 5 PATH_TO_UNZIPPED_DATA PATH_TO_OUTPUT_DIR\n",
    "`"
   ]
  },
  {
   "cell_type": "code",
   "execution_count": 26,
   "metadata": {},
   "outputs": [
    {
     "name": "stdout",
     "output_type": "stream",
     "text": [
      "240\n"
     ]
    }
   ],
   "source": [
    "import numpy as np\n",
    "import glob\n",
    "PATH = '../GeneratedPlateSamples' # only use images with shape 192 by 96 for training\n",
    "files = glob.glob(PATH + '/*.png') * 3  # data augmentation, same image with different brightness and contrast\n",
    "np.random.shuffle(files)\n",
    "train, val = files[:int(len(files)*0.8)], files[int(len(files)*0.8):]\n",
    "loader = DataLoader()\n",
    "trainData = DataLoader().load(train, batchSize=16)\n",
    "valData = DataLoader().load(val, batchSize=64)\n",
    "\n",
    "print(len(train))"
   ]
  },
  {
   "cell_type": "code",
   "execution_count": 27,
   "metadata": {},
   "outputs": [
    {
     "name": "stdout",
     "output_type": "stream",
     "text": [
      "(192, 96)\n",
      "(192, 96)\n",
      "(192, 96)\n",
      "(192, 96)\n",
      "(192, 96)\n",
      "(192, 96)\n",
      "(192, 96)\n",
      "(192, 96)\n",
      "(192, 96)\n",
      "(192, 96)\n",
      "(192, 96)\n",
      "(192, 96)\n",
      "(192, 96)\n",
      "(192, 96)\n",
      "(192, 96)\n",
      "(192, 96)\n",
      "(192, 96)\n",
      "(192, 96)\n",
      "(192, 96)\n",
      "(192, 96)\n",
      "(192, 96)\n",
      "(192, 96)\n",
      "(192, 96)\n",
      "(192, 96)\n",
      "(192, 96)\n",
      "(192, 96)\n",
      "(192, 96)\n",
      "(192, 96)\n",
      "(192, 96)\n",
      "(192, 96)\n",
      "(192, 96)\n",
      "(192, 96)\n",
      "(192, 96)\n",
      "(192, 96)\n",
      "(192, 96)\n",
      "(192, 96)\n",
      "(192, 96)\n",
      "(192, 96)\n",
      "(192, 96)\n",
      "(192, 96)\n",
      "(192, 96)\n",
      "(192, 96)\n",
      "(192, 96)\n",
      "(192, 96)\n",
      "(192, 96)\n",
      "(192, 96)\n",
      "(192, 96)\n",
      "(192, 96)\n",
      "(192, 96)\n",
      "(192, 96)\n",
      "(192, 96)\n",
      "(192, 96)\n",
      "(192, 96)\n",
      "(192, 96)\n",
      "(192, 96)\n",
      "(192, 96)\n",
      "(192, 96)\n",
      "(192, 96)\n",
      "(192, 96)\n",
      "(192, 96)\n",
      "(192, 96)\n",
      "(192, 96)\n",
      "(192, 96)\n",
      "(192, 96)\n",
      "(192, 96)\n",
      "(192, 96)\n",
      "(192, 96)\n",
      "(192, 96)\n",
      "(192, 96)\n",
      "(192, 96)\n",
      "(192, 96)\n",
      "(192, 96)\n",
      "(192, 96)\n",
      "(192, 96)\n",
      "(192, 96)\n",
      "(192, 96)\n",
      "(192, 96)\n",
      "(192, 96)\n",
      "(192, 96)\n",
      "(192, 96)\n",
      "(192, 96)\n",
      "(192, 96)\n",
      "(192, 96)\n",
      "(192, 96)\n",
      "(192, 96)\n",
      "(192, 96)\n",
      "(192, 96)\n",
      "(192, 96)\n",
      "(192, 96)\n",
      "(192, 96)\n",
      "(192, 96)\n",
      "(192, 96)\n",
      "(192, 96)\n",
      "(192, 96)\n",
      "(192, 96)\n",
      "(192, 96)\n",
      "(192, 96)\n",
      "(192, 96)\n",
      "(192, 96)\n",
      "(192, 96)\n",
      "(192, 96)\n",
      "(192, 96)\n",
      "(192, 96)\n",
      "(192, 96)\n",
      "(192, 96)\n",
      "(192, 96)\n",
      "(192, 96)\n",
      "(192, 96)\n",
      "(192, 96)\n",
      "(192, 96)\n",
      "(192, 96)\n",
      "(192, 96)\n",
      "(192, 96)\n",
      "(192, 96)\n",
      "(192, 96)\n",
      "(192, 96)\n",
      "(192, 96)\n",
      "(192, 96)\n",
      "(192, 96)\n",
      "(192, 96)\n",
      "(192, 96)\n",
      "(192, 96)\n",
      "(192, 96)\n",
      "(192, 96)\n",
      "(192, 96)\n",
      "(192, 96)\n",
      "(192, 96)\n",
      "(192, 96)\n",
      "(192, 96)\n",
      "(192, 96)\n",
      "(192, 96)\n",
      "(192, 96)\n",
      "(192, 96)\n",
      "(192, 96)\n",
      "(192, 96)\n",
      "(192, 96)\n",
      "(192, 96)\n",
      "(192, 96)\n",
      "(192, 96)\n",
      "(192, 96)\n",
      "(192, 96)\n",
      "(192, 96)\n",
      "(192, 96)\n",
      "(192, 96)\n",
      "(192, 96)\n",
      "(192, 96)\n",
      "(192, 96)\n",
      "(192, 96)\n",
      "(192, 96)\n",
      "(192, 96)\n",
      "(192, 96)\n",
      "(192, 96)\n",
      "(192, 96)\n",
      "(192, 96)\n",
      "(192, 96)\n",
      "(192, 96)\n",
      "(192, 96)\n",
      "(192, 96)\n",
      "(192, 96)\n",
      "(192, 96)\n",
      "(192, 96)\n",
      "(192, 96)\n",
      "(192, 96)\n",
      "(192, 96)\n",
      "(192, 96)\n",
      "(192, 96)\n",
      "(192, 96)\n",
      "(192, 96)\n",
      "(192, 96)\n",
      "(192, 96)\n",
      "(192, 96)\n",
      "(192, 96)\n",
      "(192, 96)\n",
      "(192, 96)\n",
      "(192, 96)\n",
      "(192, 96)\n",
      "(192, 96)\n",
      "(192, 96)\n",
      "(192, 96)\n",
      "(192, 96)\n",
      "(192, 96)\n",
      "(192, 96)\n",
      "(192, 96)\n",
      "(192, 96)\n",
      "(192, 96)\n",
      "(192, 96)\n",
      "(192, 96)\n",
      "(192, 96)\n",
      "(192, 96)\n",
      "(192, 96)\n",
      "(192, 96)\n",
      "(192, 96)\n",
      "(192, 96)\n",
      "(192, 96)\n",
      "(192, 96)\n",
      "(192, 96)\n",
      "(192, 96)\n",
      "(192, 96)\n",
      "(192, 96)\n",
      "(192, 96)\n",
      "(192, 96)\n",
      "(192, 96)\n",
      "(192, 96)\n",
      "(192, 96)\n",
      "(192, 96)\n",
      "(192, 96)\n",
      "(192, 96)\n",
      "(192, 96)\n",
      "(192, 96)\n",
      "(192, 96)\n",
      "(192, 96)\n",
      "(192, 96)\n",
      "(192, 96)\n",
      "(192, 96)\n",
      "(192, 96)\n",
      "(192, 96)\n",
      "(192, 96)\n",
      "(192, 96)\n",
      "(192, 96)\n",
      "(192, 96)\n",
      "(192, 96)\n",
      "(192, 96)\n",
      "(192, 96)\n",
      "(192, 96)\n",
      "(192, 96)\n",
      "(192, 96)\n",
      "(192, 96)\n",
      "(192, 96)\n",
      "(192, 96)\n",
      "(192, 96)\n",
      "(192, 96)\n",
      "(192, 96)\n",
      "(192, 96)\n",
      "(192, 96)\n",
      "(192, 96)\n",
      "(192, 96)\n",
      "(192, 96)\n",
      "(192, 96)\n",
      "(192, 96)\n",
      "(192, 96)\n"
     ]
    }
   ],
   "source": [
    "for t in train:\n",
    "    image = Image.open(t)\n",
    "    print(image.size)"
   ]
  },
  {
   "cell_type": "markdown",
   "metadata": {},
   "source": [
    "### Training"
   ]
  },
  {
   "cell_type": "code",
   "execution_count": 28,
   "metadata": {},
   "outputs": [],
   "source": [
    "discriminator = Discriminator()\n",
    "extractor = buildExtractor()\n",
    "generator = RRDBNet(blockNum=10)"
   ]
  },
  {
   "cell_type": "markdown",
   "metadata": {},
   "source": [
    "*  It's a good idea to pretrain the generator model before the min-max game - Reference: https://arxiv.org/abs/1701.00160"
   ]
  },
  {
   "cell_type": "code",
   "execution_count": 29,
   "metadata": {},
   "outputs": [
    {
     "name": "stdout",
     "output_type": "stream",
     "text": [
      "WARNING:tensorflow:Expected a shuffled dataset but input dataset `x` is not shuffled. Please invoke `shuffle()` on input dataset.\n",
      "Train on 300 steps, validate on 100 steps\n",
      " 50/300 [====>.........................] - ETA: 17:35 - loss: 2.0156 - psnr: 7.2375 - ssim: 0.1192"
     ]
    },
    {
     "ename": "KeyboardInterrupt",
     "evalue": "",
     "output_type": "error",
     "traceback": [
      "\u001b[0;31m---------------------------------------------------------------------------\u001b[0m",
      "\u001b[0;31mKeyboardInterrupt\u001b[0m                         Traceback (most recent call last)",
      "\u001b[0;32m<ipython-input-29-dbc6212d6bce>\u001b[0m in \u001b[0;36m<module>\u001b[0;34m\u001b[0m\n\u001b[1;32m     10\u001b[0m \u001b[0;31m# epoch is set to 1 for demonstration purpose. In practice I found 20 is a good number\u001b[0m\u001b[0;34m\u001b[0m\u001b[0;34m\u001b[0m\u001b[0;34m\u001b[0m\u001b[0m\n\u001b[1;32m     11\u001b[0m \u001b[0;31m# When the model reaches PSNR=20/ssim=0.65, we can start the min-max game\u001b[0m\u001b[0;34m\u001b[0m\u001b[0;34m\u001b[0m\u001b[0;34m\u001b[0m\u001b[0m\n\u001b[0;32m---> 12\u001b[0;31m \u001b[0mhistory\u001b[0m \u001b[0;34m=\u001b[0m \u001b[0mgenerator\u001b[0m\u001b[0;34m.\u001b[0m\u001b[0mfit\u001b[0m\u001b[0;34m(\u001b[0m\u001b[0mx\u001b[0m\u001b[0;34m=\u001b[0m\u001b[0mtrainData\u001b[0m\u001b[0;34m,\u001b[0m \u001b[0mvalidation_data\u001b[0m\u001b[0;34m=\u001b[0m\u001b[0mvalData\u001b[0m\u001b[0;34m,\u001b[0m \u001b[0mepochs\u001b[0m\u001b[0;34m=\u001b[0m\u001b[0;36m1\u001b[0m\u001b[0;34m,\u001b[0m \u001b[0msteps_per_epoch\u001b[0m\u001b[0;34m=\u001b[0m\u001b[0;36m300\u001b[0m\u001b[0;34m,\u001b[0m \u001b[0mvalidation_steps\u001b[0m\u001b[0;34m=\u001b[0m\u001b[0;36m100\u001b[0m\u001b[0;34m)\u001b[0m\u001b[0;34m\u001b[0m\u001b[0;34m\u001b[0m\u001b[0m\n\u001b[0m",
      "\u001b[0;32m~/opt/miniconda3/lib/python3.7/site-packages/tensorflow_core/python/keras/engine/training.py\u001b[0m in \u001b[0;36mfit\u001b[0;34m(self, x, y, batch_size, epochs, verbose, callbacks, validation_split, validation_data, shuffle, class_weight, sample_weight, initial_epoch, steps_per_epoch, validation_steps, validation_freq, max_queue_size, workers, use_multiprocessing, **kwargs)\u001b[0m\n\u001b[1;32m    725\u001b[0m         \u001b[0mmax_queue_size\u001b[0m\u001b[0;34m=\u001b[0m\u001b[0mmax_queue_size\u001b[0m\u001b[0;34m,\u001b[0m\u001b[0;34m\u001b[0m\u001b[0;34m\u001b[0m\u001b[0m\n\u001b[1;32m    726\u001b[0m         \u001b[0mworkers\u001b[0m\u001b[0;34m=\u001b[0m\u001b[0mworkers\u001b[0m\u001b[0;34m,\u001b[0m\u001b[0;34m\u001b[0m\u001b[0;34m\u001b[0m\u001b[0m\n\u001b[0;32m--> 727\u001b[0;31m         use_multiprocessing=use_multiprocessing)\n\u001b[0m\u001b[1;32m    728\u001b[0m \u001b[0;34m\u001b[0m\u001b[0m\n\u001b[1;32m    729\u001b[0m   def evaluate(self,\n",
      "\u001b[0;32m~/opt/miniconda3/lib/python3.7/site-packages/tensorflow_core/python/keras/engine/training_arrays.py\u001b[0m in \u001b[0;36mfit\u001b[0;34m(self, model, x, y, batch_size, epochs, verbose, callbacks, validation_split, validation_data, shuffle, class_weight, sample_weight, initial_epoch, steps_per_epoch, validation_steps, validation_freq, **kwargs)\u001b[0m\n\u001b[1;32m    673\u001b[0m         \u001b[0mvalidation_steps\u001b[0m\u001b[0;34m=\u001b[0m\u001b[0mvalidation_steps\u001b[0m\u001b[0;34m,\u001b[0m\u001b[0;34m\u001b[0m\u001b[0;34m\u001b[0m\u001b[0m\n\u001b[1;32m    674\u001b[0m         \u001b[0mvalidation_freq\u001b[0m\u001b[0;34m=\u001b[0m\u001b[0mvalidation_freq\u001b[0m\u001b[0;34m,\u001b[0m\u001b[0;34m\u001b[0m\u001b[0;34m\u001b[0m\u001b[0m\n\u001b[0;32m--> 675\u001b[0;31m         steps_name='steps_per_epoch')\n\u001b[0m\u001b[1;32m    676\u001b[0m \u001b[0;34m\u001b[0m\u001b[0m\n\u001b[1;32m    677\u001b[0m   def evaluate(self,\n",
      "\u001b[0;32m~/opt/miniconda3/lib/python3.7/site-packages/tensorflow_core/python/keras/engine/training_arrays.py\u001b[0m in \u001b[0;36mmodel_iteration\u001b[0;34m(model, inputs, targets, sample_weights, batch_size, epochs, verbose, callbacks, val_inputs, val_targets, val_sample_weights, shuffle, initial_epoch, steps_per_epoch, validation_steps, validation_freq, mode, validation_in_fit, prepared_feed_values_from_dataset, steps_name, **kwargs)\u001b[0m\n\u001b[1;32m    298\u001b[0m           \u001b[0;32melse\u001b[0m\u001b[0;34m:\u001b[0m\u001b[0;34m\u001b[0m\u001b[0;34m\u001b[0m\u001b[0m\n\u001b[1;32m    299\u001b[0m             \u001b[0mactual_inputs\u001b[0m \u001b[0;34m=\u001b[0m \u001b[0mins\u001b[0m\u001b[0;34m(\u001b[0m\u001b[0;34m)\u001b[0m\u001b[0;34m\u001b[0m\u001b[0;34m\u001b[0m\u001b[0m\n\u001b[0;32m--> 300\u001b[0;31m           \u001b[0mbatch_outs\u001b[0m \u001b[0;34m=\u001b[0m \u001b[0mf\u001b[0m\u001b[0;34m(\u001b[0m\u001b[0mactual_inputs\u001b[0m\u001b[0;34m)\u001b[0m\u001b[0;34m\u001b[0m\u001b[0;34m\u001b[0m\u001b[0m\n\u001b[0m\u001b[1;32m    301\u001b[0m         \u001b[0;32mexcept\u001b[0m \u001b[0merrors\u001b[0m\u001b[0;34m.\u001b[0m\u001b[0mOutOfRangeError\u001b[0m\u001b[0;34m:\u001b[0m\u001b[0;34m\u001b[0m\u001b[0;34m\u001b[0m\u001b[0m\n\u001b[1;32m    302\u001b[0m           \u001b[0;32mif\u001b[0m \u001b[0mis_dataset\u001b[0m\u001b[0;34m:\u001b[0m\u001b[0;34m\u001b[0m\u001b[0;34m\u001b[0m\u001b[0m\n",
      "\u001b[0;32m~/opt/miniconda3/lib/python3.7/site-packages/tensorflow_core/python/keras/backend.py\u001b[0m in \u001b[0;36m__call__\u001b[0;34m(self, inputs)\u001b[0m\n\u001b[1;32m   3474\u001b[0m \u001b[0;34m\u001b[0m\u001b[0m\n\u001b[1;32m   3475\u001b[0m     fetched = self._callable_fn(*array_vals,\n\u001b[0;32m-> 3476\u001b[0;31m                                 run_metadata=self.run_metadata)\n\u001b[0m\u001b[1;32m   3477\u001b[0m     \u001b[0mself\u001b[0m\u001b[0;34m.\u001b[0m\u001b[0m_call_fetch_callbacks\u001b[0m\u001b[0;34m(\u001b[0m\u001b[0mfetched\u001b[0m\u001b[0;34m[\u001b[0m\u001b[0;34m-\u001b[0m\u001b[0mlen\u001b[0m\u001b[0;34m(\u001b[0m\u001b[0mself\u001b[0m\u001b[0;34m.\u001b[0m\u001b[0m_fetches\u001b[0m\u001b[0;34m)\u001b[0m\u001b[0;34m:\u001b[0m\u001b[0;34m]\u001b[0m\u001b[0;34m)\u001b[0m\u001b[0;34m\u001b[0m\u001b[0;34m\u001b[0m\u001b[0m\n\u001b[1;32m   3478\u001b[0m     output_structure = nest.pack_sequence_as(\n",
      "\u001b[0;32m~/opt/miniconda3/lib/python3.7/site-packages/tensorflow_core/python/client/session.py\u001b[0m in \u001b[0;36m__call__\u001b[0;34m(self, *args, **kwargs)\u001b[0m\n\u001b[1;32m   1470\u001b[0m         ret = tf_session.TF_SessionRunCallable(self._session._session,\n\u001b[1;32m   1471\u001b[0m                                                \u001b[0mself\u001b[0m\u001b[0;34m.\u001b[0m\u001b[0m_handle\u001b[0m\u001b[0;34m,\u001b[0m \u001b[0margs\u001b[0m\u001b[0;34m,\u001b[0m\u001b[0;34m\u001b[0m\u001b[0;34m\u001b[0m\u001b[0m\n\u001b[0;32m-> 1472\u001b[0;31m                                                run_metadata_ptr)\n\u001b[0m\u001b[1;32m   1473\u001b[0m         \u001b[0;32mif\u001b[0m \u001b[0mrun_metadata\u001b[0m\u001b[0;34m:\u001b[0m\u001b[0;34m\u001b[0m\u001b[0;34m\u001b[0m\u001b[0m\n\u001b[1;32m   1474\u001b[0m           \u001b[0mproto_data\u001b[0m \u001b[0;34m=\u001b[0m \u001b[0mtf_session\u001b[0m\u001b[0;34m.\u001b[0m\u001b[0mTF_GetBuffer\u001b[0m\u001b[0;34m(\u001b[0m\u001b[0mrun_metadata_ptr\u001b[0m\u001b[0;34m)\u001b[0m\u001b[0;34m\u001b[0m\u001b[0;34m\u001b[0m\u001b[0m\n",
      "\u001b[0;31mKeyboardInterrupt\u001b[0m: "
     ]
    }
   ],
   "source": [
    "# a simple custom loss function that combines MAE loss with VGG loss, as defined in the SRGAN paper\n",
    "def contentLoss(y_true, y_pred):\n",
    "    featurePred = extractor(y_pred)\n",
    "    feature = extractor(y_true)\n",
    "    mae = tf.reduce_mean(tfk.losses.mae(y_true, y_pred))\n",
    "    return 0.1*tf.reduce_mean(tfk.losses.mse(featurePred, feature)) + mae\n",
    "\n",
    "optimizer = tfk.optimizers.Adam(learning_rate=1e-3)\n",
    "generator.compile(loss=contentLoss, optimizer=optimizer, metrics=[psnr, ssim])\n",
    "# epoch is set to 1 for demonstration purpose. In practice I found 20 is a good number\n",
    "# When the model reaches PSNR=20/ssim=0.65, we can start the min-max game\n",
    "history = generator.fit(x=trainData, validation_data=valData, epochs=1, steps_per_epoch=300, validation_steps=100)"
   ]
  },
  {
   "cell_type": "markdown",
   "metadata": {},
   "source": [
    "### Generative adverserial network training"
   ]
  },
  {
   "cell_type": "code",
   "execution_count": 6,
   "metadata": {},
   "outputs": [
    {
     "data": {
      "application/vnd.jupyter.widget-view+json": {
       "model_id": "9f22b53e2d6f411681e4657286eaf7d5",
       "version_major": 2,
       "version_minor": 0
      },
      "text/plain": [
       "HBox(children=(FloatProgress(value=0.0, max=500.0), HTML(value='')))"
      ]
     },
     "metadata": {},
     "output_type": "display_data"
    },
    {
     "name": "stdout",
     "output_type": "stream",
     "text": [
      "\n"
     ]
    },
    {
     "data": {
      "application/vnd.jupyter.widget-view+json": {
       "model_id": "d485872accfe4f8fa51cda81ad53b5f6",
       "version_major": 2,
       "version_minor": 0
      },
      "text/plain": [
       "HBox(children=(FloatProgress(value=0.0), HTML(value='')))"
      ]
     },
     "metadata": {},
     "output_type": "display_data"
    },
    {
     "name": "stdout",
     "output_type": "stream",
     "text": [
      "\n"
     ]
    }
   ],
   "source": [
    "# training parameter. epoch is set to 1 for demonstration\n",
    "# please train the network utill it reaches snRatio ~= 22 \n",
    "PARAMS = dict(lrGenerator = 1e-4, \n",
    "              lrDiscriminator = 1e-4,\n",
    "              epochs = 1, \n",
    "              stepsPerEpoch = 500, \n",
    "              valSteps = 100)\n",
    "game = MinMaxGame(generator, discriminator, extractor)\n",
    "log, valLog = game.train(trainData, valData, PARAMS)\n",
    "# ideally peak signal noise ratio(snRation or psnr) should reach ~22"
   ]
  },
  {
   "cell_type": "markdown",
   "metadata": {},
   "source": [
    "### Save the model\n",
    "Because I defined the model as inherited class of tf keras model, they cannot be safely serialized.  \n",
    "Therefore, please save the weights only and follow the instructions in tutorial 1 to reload the model  \n",
    "You can found my pretrained model in the *Pretrained* folder"
   ]
  },
  {
   "cell_type": "code",
   "execution_count": 7,
   "metadata": {},
   "outputs": [],
   "source": [
    "#generator.save_weights(YOUR_PATH), save_format='tf')"
   ]
  },
  {
   "cell_type": "code",
   "execution_count": null,
   "metadata": {},
   "outputs": [],
   "source": []
  }
 ],
 "metadata": {
  "kernelspec": {
   "display_name": "Python 3",
   "language": "python",
   "name": "python3"
  },
  "language_info": {
   "codemirror_mode": {
    "name": "ipython",
    "version": 3
   },
   "file_extension": ".py",
   "mimetype": "text/x-python",
   "name": "python",
   "nbconvert_exporter": "python",
   "pygments_lexer": "ipython3",
   "version": "3.7.7"
  }
 },
 "nbformat": 4,
 "nbformat_minor": 4
}
